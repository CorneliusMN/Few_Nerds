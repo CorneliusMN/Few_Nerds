{
 "cells": [
  {
   "cell_type": "markdown",
   "metadata": {},
   "source": [
    "Libraries that we might use"
   ]
  },
  {
   "cell_type": "code",
   "execution_count": null,
   "metadata": {},
   "outputs": [],
   "source": [
    "import torch\n",
    "import random\n",
    "import evaluate\n",
    "import numpy as np\n",
    "from datasets import Dataset\n",
    "from transformers import AutoModelForTokenClassification, DataCollatorForTokenClassification, BertTokenizerFast, Trainer, TrainingArguments, AutoConfig"
   ]
  },
  {
   "cell_type": "markdown",
   "metadata": {},
   "source": [
    "DATA LOADING"
   ]
  },
  {
   "cell_type": "code",
   "execution_count": null,
   "metadata": {},
   "outputs": [],
   "source": [
    "def read_conll_file(path):\n",
    "    \"\"\"\n",
    "    read in conll file\n",
    "    :param path: path to read from\n",
    "    :returns: list with sequences of words and labels for each sentence\n",
    "    \"\"\"\n",
    "    data = []\n",
    "    current_words = []\n",
    "    current_tags = []\n",
    "\n",
    "    for line in open(path, encoding = \"utf-8\"):\n",
    "        line = line.strip()\n",
    "        if line:\n",
    "            if line[0] == \"#\":\n",
    "                continue # skip comments\n",
    "            tok = line.split(\"\\t\")\n",
    "            current_words.append(tok[1])\n",
    "            current_tags.append(tok[2])\n",
    "        else:\n",
    "            if current_words: # skip empty lines\n",
    "                data.append((current_words, current_tags))\n",
    "            current_words = []\n",
    "            current_tags = []\n",
    "\n",
    "    # check for last one\n",
    "    if current_tags != []:\n",
    "        data.append((current_words, current_tags))\n",
    "    return data"
   ]
  },
  {
   "cell_type": "code",
   "execution_count": null,
   "metadata": {},
   "outputs": [],
   "source": [
    "train_data = read_conll_file(\"en_ewt-ud-train.iob2\")"
   ]
  },
  {
   "cell_type": "code",
   "execution_count": null,
   "metadata": {},
   "outputs": [],
   "source": [
    "dev_data = read_conll_file(\"en_ewt-ud-dev.iob2\")"
   ]
  },
  {
   "cell_type": "code",
   "execution_count": null,
   "metadata": {},
   "outputs": [],
   "source": [
    "test_data = read_conll_file(\"en_ewt-ud-test-masked.iob2\")"
   ]
  },
  {
   "cell_type": "markdown",
   "metadata": {},
   "source": [
    "LABEL MAPPING"
   ]
  },
  {
   "cell_type": "code",
   "execution_count": null,
   "metadata": {},
   "outputs": [],
   "source": [
    "unique_lables = list(set(lab for sen, labs in train_data for lab in labs))"
   ]
  },
  {
   "cell_type": "code",
   "execution_count": null,
   "metadata": {},
   "outputs": [],
   "source": [
    "lab2idx = {lab: idx for idx, lab in enumerate(unique_lables)}"
   ]
  },
  {
   "cell_type": "code",
   "execution_count": null,
   "metadata": {},
   "outputs": [],
   "source": [
    "idx2lab = {idx: lab for lab, idx in lab2idx.items()}"
   ]
  },
  {
   "cell_type": "markdown",
   "metadata": {},
   "source": [
    "TOKENIZER AND ALIGNMENT"
   ]
  },
  {
   "cell_type": "code",
   "execution_count": null,
   "metadata": {},
   "outputs": [],
   "source": [
    "model_name = \"google-bert/bert-base-cased\""
   ]
  },
  {
   "cell_type": "code",
   "execution_count": null,
   "metadata": {},
   "outputs": [],
   "source": [
    "# Tokenizer\n",
    "tokenizer = BertTokenizerFast.from_pretrained(model_name)\n",
    "config = AutoConfig.from_pretrained(model_name, num_labels = len(unique_lables), id2label = idx2lab, label2id = lab2idx)"
   ]
  },
  {
   "cell_type": "code",
   "execution_count": null,
   "metadata": {},
   "outputs": [],
   "source": [
    "def tokenize_and_align_labels(examples):\n",
    "    \"\"\"\n",
    "    For each example, tokenize the list of tokens and align the original labels \n",
    "    to the resulting subwords. Tokens can be split into multiple subwords, so we mark \n",
    "    the \"extra\" subwords with -100 to ignore them in the loss.\n",
    "    \"\"\"\n",
    "    tokenized_inputs = tokenizer(\n",
    "        examples[\"token\"],\n",
    "        max_length = 128,\n",
    "        padding = False,\n",
    "        truncation = True, \n",
    "        is_split_into_words = True\n",
    "    )\n",
    "\n",
    "    all_labels = []\n",
    "\n",
    "    for batch_index, labels in enumerate(examples[\"NER_int\"]):\n",
    "        word_ids = tokenized_inputs.word_ids(batch_index = batch_index)\n",
    "        label_ids = []\n",
    "        prev_word_id = None\n",
    "        for word_id in word_ids:\n",
    "            if word_id is None:\n",
    "                label_ids.append(-100)\n",
    "            elif word_id == prev_word_id:\n",
    "                continue\n",
    "            else:\n",
    "                label_ids.append(labels[word_id])\n",
    "            prev_word_id = word_id\n",
    "        all_labels.append(label_ids)\n",
    "\n",
    "    tokenized_inputs[\"labels\"] = all_labels\n",
    "\n",
    "    return tokenized_inputs"
   ]
  },
  {
   "cell_type": "markdown",
   "metadata": {},
   "source": [
    "DATASET"
   ]
  },
  {
   "cell_type": "code",
   "execution_count": null,
   "metadata": {},
   "outputs": [],
   "source": [
    "train_dataset = Dataset.from_dict({\"token\": [x[0] for x in train_data], \"NER\": [x[1] for x in train_data], \"NER_int\":[[lab2idx[x] for x in x[1]] for x in train_data]})"
   ]
  },
  {
   "cell_type": "code",
   "execution_count": null,
   "metadata": {},
   "outputs": [],
   "source": [
    "dev_dataset = Dataset.from_dict({\"token\": [x[0] for x in dev_data], \"NER\": [x[1] for x in dev_data], \"NER_int\":[[lab2idx[x] for x in x[1]] for x in dev_data]})"
   ]
  },
  {
   "cell_type": "code",
   "execution_count": null,
   "metadata": {},
   "outputs": [],
   "source": [
    "test_dataset = Dataset.from_dict({\"token\": [x[0] for x in test_data], \"NER\": [x[1] for x in test_data], \"NER_int\":[[lab2idx[x] for x in x[1]] for x in test_data]})"
   ]
  },
  {
   "cell_type": "code",
   "execution_count": null,
   "metadata": {},
   "outputs": [],
   "source": [
    "processed_train_dataset = train_dataset.map(\n",
    "    tokenize_and_align_labels,\n",
    "    batched = True,\n",
    "    remove_columns = [\"token\", \"NER\", \"NER_int\"],\n",
    "    desc = \"Running tokenizer on dataset\"\n",
    ")\n",
    "\n",
    "processed_dev_dataset = dev_dataset.map(\n",
    "    tokenize_and_align_labels,\n",
    "    batched = True,\n",
    "    remove_columns = [\"token\", \"NER\", \"NER_int\"],\n",
    "    desc = \"Running tokenizer on dataset\"\n",
    ")\n",
    "\n",
    "processed_test_dataset = test_dataset.map(\n",
    "    tokenize_and_align_labels,\n",
    "    batched = True,\n",
    "    remove_columns = [\"token\", \"NER\", \"NER_int\"],\n",
    "    desc = \"Running tokenizer on dataset\"\n",
    ")"
   ]
  },
  {
   "cell_type": "code",
   "execution_count": null,
   "metadata": {},
   "outputs": [],
   "source": [
    "for index in random.sample(range(len(processed_train_dataset)), 3):\n",
    "    print(f\"Sample {index} of the training set: {processed_train_dataset[index]}\")"
   ]
  },
  {
   "cell_type": "markdown",
   "metadata": {},
   "source": [
    "MODEL AND OPTIMIZER"
   ]
  },
  {
   "cell_type": "code",
   "execution_count": null,
   "metadata": {},
   "outputs": [],
   "source": [
    "model = AutoModelForTokenClassification.from_pretrained(model_name, config = config)\n",
    "data_collator = DataCollatorForTokenClassification(tokenizer)\n",
    "device = \"cuda\" if torch.cuda.is_available() else \"cpu\"\n",
    "model.to(device)"
   ]
  },
  {
   "cell_type": "code",
   "execution_count": null,
   "metadata": {},
   "outputs": [],
   "source": [
    "training_args = TrainingArguments(\n",
    "    output_dir = \"output\",\n",
    "    evaluation_strategy = \"epoch\"\n",
    ")"
   ]
  },
  {
   "cell_type": "code",
   "execution_count": null,
   "metadata": {},
   "outputs": [],
   "source": [
    "metric = evaluate.load(\"seqeval\")"
   ]
  },
  {
   "cell_type": "code",
   "execution_count": null,
   "metadata": {},
   "outputs": [],
   "source": [
    "def convert_int_to_labels(preds):\n",
    "    logits, labels = preds\n",
    "    predictions = np.argmax(logits, axis = -1)\n",
    "    true_labels = [[idx2lab[label] for label in label_sequence if label != -100] for label_sequence in labels]\n",
    "    true_predictions = [[idx2lab[pred] for pred, label in zip(preds_sequence, labels_sequence) if label != -100] for preds_sequence, labels_sequence in zip(predictions, labels)]\n",
    "    return true_labels, true_predictions"
   ]
  },
  {
   "cell_type": "code",
   "execution_count": null,
   "metadata": {},
   "outputs": [],
   "source": [
    "def compute_metrics(preds):\n",
    "    true_labels, true_predictions = convert_int_to_labels(preds)\n",
    "    results = metric.compute(predictions = true_predictions, references = true_labels)\n",
    "    return {\n",
    "        \"Precision\": results[\"overall_precision\"],\n",
    "        \"Recall\": results[\"overall_recall\"],\n",
    "        \"F1\": results[\"overall_f1\"],\n",
    "        \"Accuracy\": results[\"overall_accuracy\"]\n",
    "    }"
   ]
  },
  {
   "cell_type": "code",
   "execution_count": null,
   "metadata": {},
   "outputs": [],
   "source": [
    "trainer = Trainer(model = model,\n",
    "                  args = training_args,\n",
    "                  train_dataset = processed_train_dataset,\n",
    "                  eval_dataset = processed_dev_dataset,\n",
    "                  tokenizer =  tokenizer,\n",
    "                  compute_metrics = compute_metrics,\n",
    "                  data_collator = data_collator\n",
    "                  )\n",
    "trainer.train()"
   ]
  },
  {
   "cell_type": "code",
   "execution_count": null,
   "metadata": {},
   "outputs": [],
   "source": [
    "results = trainer.evaluate()"
   ]
  },
  {
   "cell_type": "code",
   "execution_count": null,
   "metadata": {},
   "outputs": [],
   "source": [
    "predictions, labels, metrics = trainer.predict(processed_test_dataset)"
   ]
  },
  {
   "cell_type": "code",
   "execution_count": null,
   "metadata": {},
   "outputs": [],
   "source": [
    "labels, predictions = convert_int_to_labels((predictions, labels))"
   ]
  },
  {
   "cell_type": "code",
   "execution_count": null,
   "metadata": {},
   "outputs": [],
   "source": [
    "final_format = []\n",
    "for i in range(len(predictions)):\n",
    "    final_format.append((test_data[i][0], predictions[i]))"
   ]
  },
  {
   "cell_type": "code",
   "execution_count": null,
   "metadata": {},
   "outputs": [],
   "source": [
    "def write_conll_file(data, path):\n",
    "    \"\"\"\n",
    "    Write data back to a CoNLL file format.\n",
    "    :param data: list of tuples with words and labels\n",
    "    :param path: path to write to\n",
    "    \"\"\"\n",
    "    with open(path, \"w\", encoding = \"utf-8\") as f:\n",
    "        for sentence in data:\n",
    "            words, labels = sentence\n",
    "            for idx, (word, label) in enumerate(zip(words, labels), start = 1):\n",
    "                f.write(f\"{idx}\\t{word}\\t{label}\\t-\\t-\\n\")\n",
    "            f.write(\"\\n\")\n",
    "\n",
    "write_conll_file(final_format, \"test_ouput.iob2\")"
   ]
  }
 ],
 "metadata": {
  "kernelspec": {
   "display_name": "base",
   "language": "python",
   "name": "python3"
  },
  "language_info": {
   "codemirror_mode": {
    "name": "ipython",
    "version": 3
   },
   "file_extension": ".py",
   "mimetype": "text/x-python",
   "name": "python",
   "nbconvert_exporter": "python",
   "pygments_lexer": "ipython3",
   "version": "3.11.8"
  }
 },
 "nbformat": 4,
 "nbformat_minor": 2
}
