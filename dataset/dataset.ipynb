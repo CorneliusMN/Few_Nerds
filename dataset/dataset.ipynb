{
 "cells": [
  {
   "cell_type": "code",
   "execution_count": 1,
   "metadata": {},
   "outputs": [],
   "source": [
    "from datasets import load_dataset"
   ]
  },
  {
   "cell_type": "code",
   "execution_count": 2,
   "metadata": {},
   "outputs": [],
   "source": [
    "dataset = load_dataset(\"DFKI-SLT/few-nerd\", \"inter\")"
   ]
  },
  {
   "cell_type": "markdown",
   "metadata": {},
   "source": [
    "Shape of train, validation and test sets"
   ]
  },
  {
   "cell_type": "code",
   "execution_count": 3,
   "metadata": {},
   "outputs": [
    {
     "data": {
      "text/plain": [
       "(130112, 4)"
      ]
     },
     "execution_count": 3,
     "metadata": {},
     "output_type": "execute_result"
    }
   ],
   "source": [
    "train = dataset[\"train\"]\n",
    "train.shape"
   ]
  },
  {
   "cell_type": "code",
   "execution_count": 4,
   "metadata": {},
   "outputs": [
    {
     "data": {
      "text/plain": [
       "(18817, 4)"
      ]
     },
     "execution_count": 4,
     "metadata": {},
     "output_type": "execute_result"
    }
   ],
   "source": [
    "val = dataset[\"validation\"] \n",
    "val.shape"
   ]
  },
  {
   "cell_type": "code",
   "execution_count": 5,
   "metadata": {},
   "outputs": [
    {
     "data": {
      "text/plain": [
       "(14007, 4)"
      ]
     },
     "execution_count": 5,
     "metadata": {},
     "output_type": "execute_result"
    }
   ],
   "source": [
    "test = dataset[\"test\"] \n",
    "test.shape"
   ]
  },
  {
   "cell_type": "markdown",
   "metadata": {},
   "source": [
    "NER and fine NER tags"
   ]
  },
  {
   "cell_type": "code",
   "execution_count": 6,
   "metadata": {},
   "outputs": [
    {
     "data": {
      "text/plain": [
       "['O',\n",
       " 'art',\n",
       " 'building',\n",
       " 'event',\n",
       " 'location',\n",
       " 'organization',\n",
       " 'other',\n",
       " 'person',\n",
       " 'product']"
      ]
     },
     "execution_count": 6,
     "metadata": {},
     "output_type": "execute_result"
    }
   ],
   "source": [
    "ner_tags = train.features[\"ner_tags\"].feature.names\n",
    "ner_tags"
   ]
  },
  {
   "cell_type": "code",
   "execution_count": 7,
   "metadata": {},
   "outputs": [
    {
     "data": {
      "text/plain": [
       "7"
      ]
     },
     "execution_count": 7,
     "metadata": {},
     "output_type": "execute_result"
    }
   ],
   "source": [
    "# Find the index of a tag given the tag\n",
    "index_person = ner_tags.index(\"person\")\n",
    "index_person"
   ]
  },
  {
   "cell_type": "code",
   "execution_count": 8,
   "metadata": {},
   "outputs": [
    {
     "data": {
      "text/plain": [
       "['O',\n",
       " 'art-broadcastprogram',\n",
       " 'art-film',\n",
       " 'art-music',\n",
       " 'art-other',\n",
       " 'art-painting',\n",
       " 'art-writtenart',\n",
       " 'building-airport',\n",
       " 'building-hospital',\n",
       " 'building-hotel',\n",
       " 'building-library',\n",
       " 'building-other',\n",
       " 'building-restaurant',\n",
       " 'building-sportsfacility',\n",
       " 'building-theater',\n",
       " 'event-attack/battle/war/militaryconflict',\n",
       " 'event-disaster',\n",
       " 'event-election',\n",
       " 'event-other',\n",
       " 'event-protest',\n",
       " 'event-sportsevent',\n",
       " 'location-GPE',\n",
       " 'location-bodiesofwater',\n",
       " 'location-island',\n",
       " 'location-mountain',\n",
       " 'location-other',\n",
       " 'location-park',\n",
       " 'location-road/railway/highway/transit',\n",
       " 'organization-company',\n",
       " 'organization-education',\n",
       " 'organization-government/governmentagency',\n",
       " 'organization-media/newspaper',\n",
       " 'organization-other',\n",
       " 'organization-politicalparty',\n",
       " 'organization-religion',\n",
       " 'organization-showorganization',\n",
       " 'organization-sportsleague',\n",
       " 'organization-sportsteam',\n",
       " 'other-astronomything',\n",
       " 'other-award',\n",
       " 'other-biologything',\n",
       " 'other-chemicalthing',\n",
       " 'other-currency',\n",
       " 'other-disease',\n",
       " 'other-educationaldegree',\n",
       " 'other-god',\n",
       " 'other-language',\n",
       " 'other-law',\n",
       " 'other-livingthing',\n",
       " 'other-medical',\n",
       " 'person-actor',\n",
       " 'person-artist/author',\n",
       " 'person-athlete',\n",
       " 'person-director',\n",
       " 'person-other',\n",
       " 'person-politician',\n",
       " 'person-scholar',\n",
       " 'person-soldier',\n",
       " 'product-airplane',\n",
       " 'product-car',\n",
       " 'product-food',\n",
       " 'product-game',\n",
       " 'product-other',\n",
       " 'product-ship',\n",
       " 'product-software',\n",
       " 'product-train',\n",
       " 'product-weapon']"
      ]
     },
     "execution_count": 8,
     "metadata": {},
     "output_type": "execute_result"
    }
   ],
   "source": [
    "fine_ner_tags = train.features[\"fine_ner_tags\"].feature.names\n",
    "fine_ner_tags"
   ]
  },
  {
   "cell_type": "code",
   "execution_count": 9,
   "metadata": {},
   "outputs": [
    {
     "data": {
      "text/plain": [
       "17"
      ]
     },
     "execution_count": 9,
     "metadata": {},
     "output_type": "execute_result"
    }
   ],
   "source": [
    "# Same as before but with fine NER\n",
    "index_event_election = fine_ner_tags.index(\"event-election\")\n",
    "index_event_election"
   ]
  },
  {
   "cell_type": "markdown",
   "metadata": {},
   "source": [
    "Closer look at the (training) dataset"
   ]
  },
  {
   "cell_type": "code",
   "execution_count": 10,
   "metadata": {},
   "outputs": [
    {
     "data": {
      "text/plain": [
       "{'id': '10',\n",
       " 'tokens': ['The',\n",
       "  'City',\n",
       "  'of',\n",
       "  'Bradenton',\n",
       "  'talked',\n",
       "  'A',\n",
       "  \"'s\",\n",
       "  'owner',\n",
       "  'Charlie',\n",
       "  'Finley',\n",
       "  'into',\n",
       "  'staying',\n",
       "  'at',\n",
       "  'McKechnie',\n",
       "  'until',\n",
       "  '.'],\n",
       " 'ner_tags': [0, 4, 4, 4, 0, 0, 0, 0, 0, 0, 0, 0, 0, 5, 0, 0],\n",
       " 'fine_ner_tags': [0, 21, 21, 21, 0, 0, 0, 0, 0, 0, 0, 0, 0, 36, 0, 0]}"
      ]
     },
     "execution_count": 10,
     "metadata": {},
     "output_type": "execute_result"
    }
   ],
   "source": [
    "train[10]"
   ]
  },
  {
   "cell_type": "code",
   "execution_count": 11,
   "metadata": {},
   "outputs": [
    {
     "data": {
      "text/plain": [
       "'10'"
      ]
     },
     "execution_count": 11,
     "metadata": {},
     "output_type": "execute_result"
    }
   ],
   "source": [
    "train[10].get(\"id\")"
   ]
  },
  {
   "cell_type": "code",
   "execution_count": 12,
   "metadata": {},
   "outputs": [
    {
     "data": {
      "text/plain": [
       "['The',\n",
       " 'City',\n",
       " 'of',\n",
       " 'Bradenton',\n",
       " 'talked',\n",
       " 'A',\n",
       " \"'s\",\n",
       " 'owner',\n",
       " 'Charlie',\n",
       " 'Finley',\n",
       " 'into',\n",
       " 'staying',\n",
       " 'at',\n",
       " 'McKechnie',\n",
       " 'until',\n",
       " '.']"
      ]
     },
     "execution_count": 12,
     "metadata": {},
     "output_type": "execute_result"
    }
   ],
   "source": [
    "train[10].get(\"tokens\")"
   ]
  },
  {
   "cell_type": "code",
   "execution_count": 13,
   "metadata": {},
   "outputs": [
    {
     "data": {
      "text/plain": [
       "[0, 4, 4, 4, 0, 0, 0, 0, 0, 0, 0, 0, 0, 5, 0, 0]"
      ]
     },
     "execution_count": 13,
     "metadata": {},
     "output_type": "execute_result"
    }
   ],
   "source": [
    "train[10].get(\"ner_tags\")"
   ]
  },
  {
   "cell_type": "code",
   "execution_count": 14,
   "metadata": {},
   "outputs": [
    {
     "data": {
      "text/plain": [
       "[0, 21, 21, 21, 0, 0, 0, 0, 0, 0, 0, 0, 0, 36, 0, 0]"
      ]
     },
     "execution_count": 14,
     "metadata": {},
     "output_type": "execute_result"
    }
   ],
   "source": [
    "train[10].get(\"fine_ner_tags\")"
   ]
  },
  {
   "cell_type": "code",
   "execution_count": 15,
   "metadata": {},
   "outputs": [
    {
     "name": "stdout",
     "output_type": "stream",
     "text": [
      "[0, 4, 4, 4, 0, 0, 0, 0, 0, 0, 0, 0, 0, 5, 0, 0]\n",
      "O\n",
      "location\n",
      "location\n",
      "location\n",
      "O\n",
      "O\n",
      "O\n",
      "O\n",
      "O\n",
      "O\n",
      "O\n",
      "O\n",
      "O\n",
      "organization\n",
      "O\n",
      "O\n"
     ]
    }
   ],
   "source": [
    "train_10_ner_tags = train[10].get(\"ner_tags\")\n",
    "print(train_10_ner_tags)\n",
    "\n",
    "for i in train_10_ner_tags:\n",
    "    print(ner_tags[i])"
   ]
  },
  {
   "cell_type": "code",
   "execution_count": 16,
   "metadata": {},
   "outputs": [
    {
     "name": "stdout",
     "output_type": "stream",
     "text": [
      "[0, 21, 21, 21, 0, 0, 0, 0, 0, 0, 0, 0, 0, 36, 0, 0]\n",
      "O\n",
      "location-GPE\n",
      "location-GPE\n",
      "location-GPE\n",
      "O\n",
      "O\n",
      "O\n",
      "O\n",
      "O\n",
      "O\n",
      "O\n",
      "O\n",
      "O\n",
      "organization-sportsleague\n",
      "O\n",
      "O\n"
     ]
    }
   ],
   "source": [
    "train_10_fine_ner_tags = train[10].get(\"fine_ner_tags\")\n",
    "print(train_10_fine_ner_tags)\n",
    "\n",
    "for i in train_10_fine_ner_tags:\n",
    "    print(fine_ner_tags[i])"
   ]
  },
  {
   "cell_type": "markdown",
   "metadata": {},
   "source": [
    "If we want to work only with fine grained NER tags of a single category"
   ]
  },
  {
   "cell_type": "code",
   "execution_count": 17,
   "metadata": {},
   "outputs": [
    {
     "name": "stdout",
     "output_type": "stream",
     "text": [
      "Number of sentences containing only the specified ner tag: 9622\n"
     ]
    }
   ],
   "source": [
    "# Only keep the sentences having person as ner tag\n",
    "ner_tag_index = ner_tags.index(\"person\")\n",
    "\n",
    "def filter_only_person(example):\n",
    "\n",
    "    has_ner_tag = False\n",
    "    for tag in example[\"ner_tags\"]:\n",
    "        # skip non-entity tokens\n",
    "        if tag == 0:\n",
    "            continue\n",
    "        if tag != ner_tag_index:\n",
    "            return False\n",
    "        else:\n",
    "            has_person = True\n",
    "    return has_person\n",
    "\n",
    "# Filter the dataset\n",
    "filtered_train_person = dataset[\"train\"].filter(filter_only_person)\n",
    "\n",
    "print(\"Number of sentences containing only the specified ner tag:\", len(filtered_train_person))"
   ]
  },
  {
   "cell_type": "code",
   "execution_count": 18,
   "metadata": {},
   "outputs": [
    {
     "data": {
      "text/plain": [
       "[0, 0, 0, 0, 0, 0, 0, 0, 7, 7, 7, 0, 0, 7, 7, 0, 0, 7, 7, 0]"
      ]
     },
     "execution_count": 18,
     "metadata": {},
     "output_type": "execute_result"
    }
   ],
   "source": [
    "filtered_train_person[4].get(\"ner_tags\")"
   ]
  },
  {
   "cell_type": "code",
   "execution_count": 19,
   "metadata": {},
   "outputs": [
    {
     "data": {
      "text/plain": [
       "'person'"
      ]
     },
     "execution_count": 19,
     "metadata": {},
     "output_type": "execute_result"
    }
   ],
   "source": [
    "ner_tags[7]"
   ]
  },
  {
   "cell_type": "markdown",
   "metadata": {},
   "source": [
    "If we want multiple ner tags"
   ]
  },
  {
   "cell_type": "code",
   "execution_count": 20,
   "metadata": {},
   "outputs": [
    {
     "name": "stdout",
     "output_type": "stream",
     "text": [
      "Number of sentences containing only the specified ner tags: 49134\n"
     ]
    }
   ],
   "source": [
    "person_index = ner_tags.index(\"person\")\n",
    "location_index = ner_tags.index(\"location\")\n",
    "\n",
    "def filter_person_or_location(example):\n",
    "    has_valid_ner_tag = False\n",
    "    for tag in example[\"ner_tags\"]:\n",
    "        if tag == 0:\n",
    "            continue\n",
    "        if tag != person_index and tag != location_index:\n",
    "            return False\n",
    "        has_valid_ner_tag = True\n",
    "    return has_valid_ner_tag # only keep if at least one valid entity tag is found\n",
    "\n",
    "filtered_train_person_location = dataset[\"train\"].filter(filter_person_or_location)\n",
    "\n",
    "print(\"Number of sentences containing only the specified ner tags:\", len(filtered_train_person_location))"
   ]
  },
  {
   "cell_type": "code",
   "execution_count": 21,
   "metadata": {},
   "outputs": [
    {
     "data": {
      "text/plain": [
       "[0, 0, 0, 0, 0, 0, 0, 0, 0, 0, 0, 0, 4, 4, 0, 4, 0, 4, 4, 0, 4, 4, 0, 4, 4, 0]"
      ]
     },
     "execution_count": 21,
     "metadata": {},
     "output_type": "execute_result"
    }
   ],
   "source": [
    "filtered_train_person_location[0].get(\"ner_tags\")"
   ]
  },
  {
   "cell_type": "code",
   "execution_count": 22,
   "metadata": {},
   "outputs": [
    {
     "data": {
      "application/vnd.jupyter.widget-view+json": {
       "model_id": "8a0977e7623b482ebb5acd1dc99c3563",
       "version_major": 2,
       "version_minor": 0
      },
      "text/plain": [
       "Filter:   0%|          | 0/49134 [00:00<?, ? examples/s]"
      ]
     },
     "metadata": {},
     "output_type": "display_data"
    },
    {
     "name": "stdout",
     "output_type": "stream",
     "text": [
      "Number of sentences containing both the ner tags: 6220\n"
     ]
    }
   ],
   "source": [
    "def contains_both_person_and_location(example):\n",
    "    has_person = False\n",
    "    has_location = False\n",
    "    for tag in example[\"ner_tags\"]:\n",
    "        if tag == person_index:\n",
    "            has_person = True\n",
    "        elif tag == location_index:\n",
    "            has_location = True\n",
    "        # If both are true\n",
    "        if has_person and has_location:\n",
    "            return True\n",
    "    return False\n",
    "\n",
    "filtered_both = filtered_train_person_location.filter(contains_both_person_and_location)\n",
    "\n",
    "print(\"Number of sentences containing both the ner tags:\", len(filtered_both))"
   ]
  },
  {
   "cell_type": "code",
   "execution_count": 23,
   "metadata": {},
   "outputs": [
    {
     "data": {
      "text/plain": [
       "[7,\n",
       " 7,\n",
       " 0,\n",
       " 0,\n",
       " 0,\n",
       " 0,\n",
       " 0,\n",
       " 0,\n",
       " 4,\n",
       " 0,\n",
       " 4,\n",
       " 0,\n",
       " 0,\n",
       " 0,\n",
       " 0,\n",
       " 0,\n",
       " 0,\n",
       " 0,\n",
       " 0,\n",
       " 0,\n",
       " 0,\n",
       " 0,\n",
       " 0,\n",
       " 0,\n",
       " 0,\n",
       " 0,\n",
       " 0,\n",
       " 0,\n",
       " 4,\n",
       " 0,\n",
       " 0,\n",
       " 0,\n",
       " 0,\n",
       " 0,\n",
       " 0]"
      ]
     },
     "execution_count": 23,
     "metadata": {},
     "output_type": "execute_result"
    }
   ],
   "source": [
    "filtered_both[0].get(\"ner_tags\")"
   ]
  }
 ],
 "metadata": {
  "kernelspec": {
   "display_name": "base",
   "language": "python",
   "name": "python3"
  },
  "language_info": {
   "codemirror_mode": {
    "name": "ipython",
    "version": 3
   },
   "file_extension": ".py",
   "mimetype": "text/x-python",
   "name": "python",
   "nbconvert_exporter": "python",
   "pygments_lexer": "ipython3",
   "version": "3.11.8"
  }
 },
 "nbformat": 4,
 "nbformat_minor": 2
}
